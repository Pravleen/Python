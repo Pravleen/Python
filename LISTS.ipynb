{
 "cells": [
  {
   "cell_type": "code",
   "execution_count": 3,
   "metadata": {},
   "outputs": [
    {
     "name": "stdout",
     "output_type": "stream",
     "text": [
      "[1, 2, 3]\n",
      "['Pravleen', 1, 5.4]\n"
     ]
    }
   ],
   "source": [
    "L=[1,2,3]\n",
    "print(L)\n",
    "P=[\"Pravleen\",1,5.4]\n",
    "print(P)"
   ]
  },
  {
   "cell_type": "code",
   "execution_count": 2,
   "metadata": {},
   "outputs": [
    {
     "name": "stdout",
     "output_type": "stream",
     "text": [
      "[5]\n"
     ]
    }
   ],
   "source": [
    "L=[]\n",
    "L.append(5)\n",
    "print(L)"
   ]
  },
  {
   "cell_type": "code",
   "execution_count": 4,
   "metadata": {},
   "outputs": [
    {
     "name": "stdout",
     "output_type": "stream",
     "text": [
      "Enter a number5\n",
      "[0, 1, 2, 3, 4]\n"
     ]
    }
   ],
   "source": [
    "L=[]\n",
    "n=int(input(\"Enter a number\"))\n",
    "for i in range(0,n):\n",
    "    L.append(i)\n",
    "print(L)"
   ]
  },
  {
   "cell_type": "code",
   "execution_count": 5,
   "metadata": {},
   "outputs": [
    {
     "name": "stdout",
     "output_type": "stream",
     "text": [
      "Enter a number5\n",
      "Enter a value 33\n",
      "Enter a value Pravleen\n",
      "Enter a value 7\n",
      "Enter a value Kaur\n",
      "Enter a value 6.9\n",
      "['33', 'Pravleen', '7', 'Kaur', '6.9']\n"
     ]
    }
   ],
   "source": [
    "L=[]\n",
    "n=int(input(\"Enter a number\"))\n",
    "for i in range(0,n):\n",
    "    l=input(\"Enter a value \")\n",
    "    L.append(l)\n",
    "print(L)"
   ]
  },
  {
   "cell_type": "markdown",
   "metadata": {},
   "source": [
    "## Remove element from list"
   ]
  },
  {
   "cell_type": "code",
   "execution_count": 6,
   "metadata": {},
   "outputs": [
    {
     "data": {
      "text/plain": [
       "'7'"
      ]
     },
     "execution_count": 6,
     "metadata": {},
     "output_type": "execute_result"
    }
   ],
   "source": [
    "L.pop(2)"
   ]
  },
  {
   "cell_type": "code",
   "execution_count": 7,
   "metadata": {},
   "outputs": [
    {
     "data": {
      "text/plain": [
       "['33', 'Pravleen', 'Kaur', '6.9']"
      ]
     },
     "execution_count": 7,
     "metadata": {},
     "output_type": "execute_result"
    }
   ],
   "source": [
    "L\n"
   ]
  },
  {
   "cell_type": "markdown",
   "metadata": {},
   "source": [
    "## Sorting of list"
   ]
  },
  {
   "cell_type": "code",
   "execution_count": 9,
   "metadata": {},
   "outputs": [
    {
     "data": {
      "text/plain": [
       "['33', '6.9', 'Kaur', 'Pravleen']"
      ]
     },
     "execution_count": 9,
     "metadata": {},
     "output_type": "execute_result"
    }
   ],
   "source": [
    "L.sort()\n",
    "L"
   ]
  },
  {
   "cell_type": "code",
   "execution_count": 10,
   "metadata": {},
   "outputs": [],
   "source": [
    "L.sort(reverse=True)"
   ]
  },
  {
   "cell_type": "code",
   "execution_count": 11,
   "metadata": {},
   "outputs": [
    {
     "data": {
      "text/plain": [
       "['Pravleen', 'Kaur', '6.9', '33']"
      ]
     },
     "execution_count": 11,
     "metadata": {},
     "output_type": "execute_result"
    }
   ],
   "source": [
    "L"
   ]
  },
  {
   "cell_type": "markdown",
   "metadata": {},
   "source": [
    "## Insert element at the particular position"
   ]
  },
  {
   "cell_type": "code",
   "execution_count": 14,
   "metadata": {},
   "outputs": [],
   "source": [
    "L.insert(4,66) #inserting 66 at 4th position "
   ]
  },
  {
   "cell_type": "code",
   "execution_count": 13,
   "metadata": {},
   "outputs": [
    {
     "data": {
      "text/plain": [
       "['Pravleen', 'Kaur', '6.9', '33', 66]"
      ]
     },
     "execution_count": 13,
     "metadata": {},
     "output_type": "execute_result"
    }
   ],
   "source": [
    "L"
   ]
  },
  {
   "cell_type": "markdown",
   "metadata": {},
   "source": [
    "## Find the maximum and minimum number of list"
   ]
  },
  {
   "cell_type": "code",
   "execution_count": 20,
   "metadata": {},
   "outputs": [
    {
     "name": "stdout",
     "output_type": "stream",
     "text": [
      "6\n",
      "1\n"
     ]
    }
   ],
   "source": [
    "l=[1,2,6,4,5]\n",
    "print(max(l))\n",
    "print(min(l))"
   ]
  },
  {
   "cell_type": "code",
   "execution_count": 21,
   "metadata": {},
   "outputs": [
    {
     "name": "stdout",
     "output_type": "stream",
     "text": [
      "Enter the size of list5\n",
      "3\n",
      "21\n",
      "4\n",
      "33\n",
      "6\n",
      "Maximum number present in the list is 33\n"
     ]
    }
   ],
   "source": [
    "n=int(input(\"Enter the size of list\"))\n",
    "l=[]\n",
    "for i in range(0,n):\n",
    "    l.append(int(input()))\n",
    "print(\"Maximum number present in the list is\",max(l))"
   ]
  },
  {
   "cell_type": "code",
   "execution_count": 22,
   "metadata": {},
   "outputs": [
    {
     "name": "stdout",
     "output_type": "stream",
     "text": [
      "Enter the size of list5\n",
      "3\n",
      "2\n",
      "77\n",
      "4\n",
      "1\n",
      "Minimum number present in the list is 1\n"
     ]
    }
   ],
   "source": [
    "n=int(input(\"Enter the size of list\"))\n",
    "l=[]\n",
    "for i in range(0,n):\n",
    "    l.append(int(input()))\n",
    "print(\"Minimum number present in the list is\",min(l))"
   ]
  },
  {
   "cell_type": "code",
   "execution_count": 33,
   "metadata": {},
   "outputs": [
    {
     "data": {
      "text/plain": [
       "[2, 77, 4, 1]"
      ]
     },
     "execution_count": 33,
     "metadata": {},
     "output_type": "execute_result"
    }
   ],
   "source": [
    "l[-4:]"
   ]
  },
  {
   "cell_type": "code",
   "execution_count": 34,
   "metadata": {},
   "outputs": [
    {
     "data": {
      "text/plain": [
       "[77, 4]"
      ]
     },
     "execution_count": 34,
     "metadata": {},
     "output_type": "execute_result"
    }
   ],
   "source": [
    "l[-3:-1]"
   ]
  },
  {
   "cell_type": "markdown",
   "metadata": {},
   "source": [
    "## Palindrome"
   ]
  },
  {
   "cell_type": "code",
   "execution_count": 5,
   "metadata": {},
   "outputs": [
    {
     "name": "stdout",
     "output_type": "stream",
     "text": [
      "PALINDROME!!\n"
     ]
    }
   ],
   "source": [
    "l=[1,2,2,1]\n",
    "l1=l[::-1]\n",
    "if(l1==l):\n",
    "    print(\"PALINDROME!!\")\n",
    "else:\n",
    "    print(\"Not PALINDROME!!\")"
   ]
  },
  {
   "cell_type": "code",
   "execution_count": 6,
   "metadata": {},
   "outputs": [
    {
     "name": "stdout",
     "output_type": "stream",
     "text": [
      "Not PALINDROME!!\n"
     ]
    }
   ],
   "source": [
    "l=[1,2,2,1,5]\n",
    "l1=l[::-1]\n",
    "if(l1==l):\n",
    "    print(\"PALINDROME!!\")\n",
    "else:\n",
    "    print(\"Not PALINDROME!!\")"
   ]
  },
  {
   "cell_type": "code",
   "execution_count": 8,
   "metadata": {},
   "outputs": [
    {
     "name": "stdout",
     "output_type": "stream",
     "text": [
      "Enter size5\n",
      "2\n",
      "1\n",
      "1\n",
      "1\n",
      "2\n",
      "PALINDROME!!\n"
     ]
    }
   ],
   "source": [
    "n=int(input(\"Enter size\"))\n",
    "l=[]\n",
    "for i in range(0,n):\n",
    "    l.append(int(input())) \n",
    "l1=l[::-1]\n",
    "if(l1==l):\n",
    "    print(\"PALINDROME!!\")\n",
    "else:\n",
    "    print(\"Not PALINDROME!!\")"
   ]
  },
  {
   "cell_type": "code",
   "execution_count": 9,
   "metadata": {},
   "outputs": [
    {
     "name": "stdout",
     "output_type": "stream",
     "text": [
      "Enter size5\n",
      "1\n",
      "2\n",
      "3\n",
      "4\n",
      "5\n",
      "Not PALINDROME!!\n"
     ]
    }
   ],
   "source": [
    "n=int(input(\"Enter size\"))\n",
    "l=[]\n",
    "for i in range(0,n):\n",
    "    l.append(int(input())) \n",
    "l1=l[::-1]\n",
    "if(l1==l):\n",
    "    print(\"PALINDROME!!\")\n",
    "else:\n",
    "    print(\"Not PALINDROME!!\")"
   ]
  },
  {
   "cell_type": "code",
   "execution_count": null,
   "metadata": {},
   "outputs": [],
   "source": []
  }
 ],
 "metadata": {
  "kernelspec": {
   "display_name": "Python 3",
   "language": "python",
   "name": "python3"
  },
  "language_info": {
   "codemirror_mode": {
    "name": "ipython",
    "version": 3
   },
   "file_extension": ".py",
   "mimetype": "text/x-python",
   "name": "python",
   "nbconvert_exporter": "python",
   "pygments_lexer": "ipython3",
   "version": "3.7.4"
  }
 },
 "nbformat": 4,
 "nbformat_minor": 2
}
