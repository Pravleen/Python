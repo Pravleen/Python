{
 "cells": [
  {
   "cell_type": "code",
   "execution_count": 23,
   "metadata": {},
   "outputs": [
    {
     "name": "stdout",
     "output_type": "stream",
     "text": [
      "0 ..... a\n",
      "2 ..... b\n",
      "4 ..... c\n"
     ]
    }
   ],
   "source": [
    "import re\n",
    "match=re.finditer('[abc]','a7b8cf')\n",
    "for m in match:\n",
    "    print(m.start(),'.....',m.group())"
   ]
  },
  {
   "cell_type": "code",
   "execution_count": 2,
   "metadata": {},
   "outputs": [
    {
     "name": "stdout",
     "output_type": "stream",
     "text": [
      "1 ..... 7\n",
      "3 ..... 8\n",
      "5 ..... f\n"
     ]
    }
   ],
   "source": [
    "import re\n",
    "match=re.finditer('[^abc]','a7b8cf')\n",
    "for m in match:\n",
    "    print(m.start(),'.....',m.group())"
   ]
  },
  {
   "cell_type": "code",
   "execution_count": 3,
   "metadata": {},
   "outputs": [
    {
     "name": "stdout",
     "output_type": "stream",
     "text": [
      "2 .....  \n"
     ]
    }
   ],
   "source": [
    "import re\n",
    "match=re.finditer('\\s','a7 b8cf')\n",
    "for m in match:\n",
    "    print(m.start(),'.....',m.group())"
   ]
  },
  {
   "cell_type": "code",
   "execution_count": 4,
   "metadata": {},
   "outputs": [
    {
     "name": "stdout",
     "output_type": "stream",
     "text": [
      "0 ..... a\n",
      "1 ..... 7\n",
      "2 ..... b\n",
      "3 ..... 8\n",
      "4 ..... c\n",
      "5 ..... f\n"
     ]
    }
   ],
   "source": [
    "import re\n",
    "match=re.finditer('\\S','a7b8cf')\n",
    "for m in match:\n",
    "    print(m.start(),'.....',m.group())"
   ]
  },
  {
   "cell_type": "code",
   "execution_count": 9,
   "metadata": {},
   "outputs": [
    {
     "name": "stdout",
     "output_type": "stream",
     "text": [
      "1 ..... 7\n",
      "3 ..... 8\n"
     ]
    }
   ],
   "source": [
    "import re\n",
    "match=re.finditer('\\d','a7b8cf')\n",
    "for m in match:\n",
    "    print(m.start(),'.....',m.group())"
   ]
  },
  {
   "cell_type": "code",
   "execution_count": 10,
   "metadata": {},
   "outputs": [
    {
     "name": "stdout",
     "output_type": "stream",
     "text": [
      "0 ..... a\n"
     ]
    }
   ],
   "source": [
    "#quantifiers\n",
    "import re\n",
    "match=re.finditer('a','a7b8cf')\n",
    "for m in match:\n",
    "    print(m.start(),'.....',m.group())"
   ]
  },
  {
   "cell_type": "code",
   "execution_count": 12,
   "metadata": {},
   "outputs": [
    {
     "name": "stdout",
     "output_type": "stream",
     "text": [
      "0 ..... aaaa\n"
     ]
    }
   ],
   "source": [
    "import re\n",
    "match=re.finditer('a+','aaaa7b8cf')\n",
    "for m in match:\n",
    "    print(m.start(),'.....',m.group())"
   ]
  },
  {
   "cell_type": "code",
   "execution_count": 16,
   "metadata": {},
   "outputs": [
    {
     "name": "stdout",
     "output_type": "stream",
     "text": [
      "0 ..... \n",
      "1 ..... aaaa\n",
      "5 ..... \n",
      "6 ..... \n",
      "7 ..... \n",
      "8 ..... \n",
      "9 ..... a\n",
      "10 ..... \n",
      "11 ..... aa\n",
      "13 ..... \n",
      "14 ..... \n",
      "15 ..... \n",
      "16 ..... \n",
      "17 ..... aa\n",
      "19 ..... \n"
     ]
    }
   ],
   "source": [
    "import re\n",
    "match=re.finditer('a*','baaaa7b8cafaacfdcaa')\n",
    "for m in match:\n",
    "    print(m.start(),'.....',m.group())"
   ]
  },
  {
   "cell_type": "code",
   "execution_count": 14,
   "metadata": {},
   "outputs": [
    {
     "name": "stdout",
     "output_type": "stream",
     "text": [
      "0 ..... a\n",
      "1 ..... a\n",
      "2 ..... a\n",
      "3 ..... a\n",
      "4 ..... \n",
      "5 ..... \n",
      "6 ..... \n",
      "7 ..... \n",
      "8 ..... \n",
      "9 ..... \n"
     ]
    }
   ],
   "source": [
    "import re\n",
    "match=re.finditer('a?','aaaa7b8cf')\n",
    "for m in match:\n",
    "    print(m.start(),'.....',m.group())"
   ]
  },
  {
   "cell_type": "code",
   "execution_count": 15,
   "metadata": {},
   "outputs": [
    {
     "name": "stdout",
     "output_type": "stream",
     "text": [
      "0 ..... aaaa\n",
      "6 ..... aa\n",
      "10 ..... aa\n"
     ]
    }
   ],
   "source": [
    "import re\n",
    "match=re.finditer('a+','aaaa7baa8caaf')\n",
    "for m in match:\n",
    "    print(m.start(),'.....',m.group())"
   ]
  },
  {
   "cell_type": "code",
   "execution_count": 17,
   "metadata": {},
   "outputs": [
    {
     "name": "stdout",
     "output_type": "stream",
     "text": [
      "0 ..... aaa\n"
     ]
    }
   ],
   "source": [
    "import re\n",
    "match=re.finditer('a{2,3}','aaaa7b8cf')\n",
    "for m in match:\n",
    "    print(m.start(),'.....',m.group())"
   ]
  },
  {
   "cell_type": "code",
   "execution_count": 22,
   "metadata": {},
   "outputs": [
    {
     "name": "stdout",
     "output_type": "stream",
     "text": [
      "Enter a pattern to checkavxcscns\n"
     ]
    }
   ],
   "source": [
    "import re\n",
    "s=input(\"Enter a pattern to check\")\n",
    "m=re.match(s,'avxsgxbhbc')\n",
    "if m!=None:\n",
    "    print(\"match beginning of the string\")\n",
    "    print(\"Start index:{}\",m.start())"
   ]
  },
  {
   "cell_type": "code",
   "execution_count": null,
   "metadata": {},
   "outputs": [],
   "source": []
  },
  {
   "cell_type": "code",
   "execution_count": null,
   "metadata": {},
   "outputs": [],
   "source": []
  }
 ],
 "metadata": {
  "kernelspec": {
   "display_name": "Python 3",
   "language": "python",
   "name": "python3"
  },
  "language_info": {
   "codemirror_mode": {
    "name": "ipython",
    "version": 3
   },
   "file_extension": ".py",
   "mimetype": "text/x-python",
   "name": "python",
   "nbconvert_exporter": "python",
   "pygments_lexer": "ipython3",
   "version": "3.7.4"
  }
 },
 "nbformat": 4,
 "nbformat_minor": 2
}
