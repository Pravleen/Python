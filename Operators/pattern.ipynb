{
 "cells": [
  {
   "cell_type": "code",
   "execution_count": 3,
   "metadata": {},
   "outputs": [
    {
     "name": "stdout",
     "output_type": "stream",
     "text": [
      "**********\r\n",
      "*********\r\n",
      "********\r\n",
      "*******\r\n",
      "******\r\n",
      "*****\r\n",
      "****\r\n",
      "***\r\n",
      "**\r\n",
      "*\r\n"
     ]
    }
   ],
   "source": [
    "for i in range(0,10):\n",
    "    for j in range(i,10):\n",
    "        print(\"*\",end=\"\")\n",
    "    print(\"\\r\")"
   ]
  },
  {
   "cell_type": "code",
   "execution_count": 4,
   "metadata": {},
   "outputs": [
    {
     "name": "stdout",
     "output_type": "stream",
     "text": [
      "\r\n",
      "*\r\n",
      "**\r\n",
      "***\r\n",
      "****\r\n",
      "*****\r\n",
      "******\r\n",
      "*******\r\n",
      "********\r\n",
      "*********\r\n"
     ]
    }
   ],
   "source": [
    "for i in range(0,10):\n",
    "    for j in range(0,i):\n",
    "        print(\"*\",end=\"\")\n",
    "    print(\"\\r\")"
   ]
  },
  {
   "cell_type": "code",
   "execution_count": 6,
   "metadata": {},
   "outputs": [
    {
     "name": "stdout",
     "output_type": "stream",
     "text": [
      "\r\n",
      "*\r\n",
      "**\r\n",
      "***\r\n",
      "****\r\n",
      "*****\r\n",
      "******\r\n",
      "*******\r\n",
      "********\r\n",
      "*********\r\n",
      "**********\r\n",
      "*********\r\n",
      "********\r\n",
      "*******\r\n",
      "******\r\n",
      "*****\r\n",
      "****\r\n",
      "***\r\n",
      "**\r\n",
      "*\r\n"
     ]
    }
   ],
   "source": [
    "for i in range(0,10):\n",
    "    for j in range(0,i):\n",
    "        print(\"*\",end=\"\")\n",
    "    print(\"\\r\")\n",
    "for i in range(0,10):\n",
    "    for j in range(i,10):\n",
    "        print(\"*\",end=\"\")\n",
    "    print(\"\\r\")"
   ]
  },
  {
   "cell_type": "code",
   "execution_count": 3,
   "metadata": {},
   "outputs": [
    {
     "name": "stdout",
     "output_type": "stream",
     "text": [
      "         \r\n",
      "        *\r\n",
      "       **\r\n",
      "      ***\r\n",
      "     ****\r\n",
      "    *****\r\n",
      "   ******\r\n",
      "  *******\r\n",
      " ********\r\n",
      "*********\r\n"
     ]
    }
   ],
   "source": [
    "for i in range(0,10):\n",
    "    for j in range(i+1,10):\n",
    "        print(\" \",end=\"\")\n",
    "    for k in range(0,i):\n",
    "        print(\"*\",end=\"\")\n",
    "    print(\"\\r\")"
   ]
  },
  {
   "cell_type": "code",
   "execution_count": 4,
   "metadata": {},
   "outputs": [
    {
     "name": "stdout",
     "output_type": "stream",
     "text": [
      "**********\r\n",
      " *********\r\n",
      "  ********\r\n",
      "   *******\r\n",
      "    ******\r\n",
      "     *****\r\n",
      "      ****\r\n",
      "       ***\r\n",
      "        **\r\n",
      "         *\r\n"
     ]
    }
   ],
   "source": [
    "for i in range(0,10):\n",
    "    for j in range(0,i):\n",
    "        print(\" \",end=\"\")\n",
    "    for k in range(i,10):\n",
    "        print(\"*\",end=\"\")\n",
    "    print(\"\\r\")\n",
    "             "
   ]
  },
  {
   "cell_type": "code",
   "execution_count": 45,
   "metadata": {},
   "outputs": [
    {
     "name": "stdout",
     "output_type": "stream",
     "text": [
      "1 2 \r\n",
      "3 4 5 6 \r\n",
      "7 8 9 10 11 \r\n",
      "  12 13 14 \r\n",
      "    15 \r\n"
     ]
    }
   ],
   "source": [
    "m=1\n",
    "for i in range(1,3):\n",
    "    for j in range(i+1,2):\n",
    "        print(\" \",end=\" \")\n",
    "    for k in range(1,i+1):\n",
    "        print(m,end=\" \")\n",
    "        m=m+1\n",
    "    for l in range(0,i):\n",
    "        print(m,end=\" \")\n",
    "        m=m+1\n",
    "    print(\"\\r\")\n",
    "for i in range(0,3):\n",
    "    for j in range(0,i):\n",
    "        print(\" \",end=\" \")\n",
    "    for k in range(i,3):\n",
    "        print(m,end=\" \")\n",
    "        m=m+1\n",
    "    for l in range(i,2):\n",
    "        print(m,end=\" \")\n",
    "        m=m+1\n",
    "    print(\"\\r\")\n",
    "             \n"
   ]
  },
  {
   "cell_type": "code",
   "execution_count": 61,
   "metadata": {},
   "outputs": [
    {
     "name": "stdout",
     "output_type": "stream",
     "text": [
      "    1 \r\n",
      "  2 3 4 \r\n",
      "5 6 7 8 9 \r\n",
      "  10 11 12 \r\n",
      "    13 \r\n"
     ]
    }
   ],
   "source": [
    "m=1\n",
    "for i in range(1,3):\n",
    "    for j in range(i,3):\n",
    "        print(\" \",end=\" \")\n",
    "    for k in range(0,i):\n",
    "        print(m,end=\" \")\n",
    "        m=m+1\n",
    "    for l in range(1,i):\n",
    "        print(m,end=\" \")\n",
    "        m=m+1\n",
    "    print(\"\\r\")\n",
    "for i in range(0,3):\n",
    "    if m >9 :\n",
    "        for j in range(0,i):\n",
    "            print(\" \",end=\" \")\n",
    "        for k in range(i,3):\n",
    "            print(m,end=\" \")\n",
    "            m=m+1\n",
    "        for l in range(i,2):\n",
    "            print(m,end=\" \")\n",
    "            m=m+1\n",
    "    else:   \n",
    "        for j in range(0,i):\n",
    "            print(\" \",end=\" \")\n",
    "        for k in range(i,3):\n",
    "            print(m,end=\" \")\n",
    "            m=m+1\n",
    "        for l in range(i,2):\n",
    "            print(m,end=\" \")\n",
    "            m=m+1\n",
    "    print(\"\\r\")\n",
    "\n",
    "             \n"
   ]
  },
  {
   "cell_type": "code",
   "execution_count": 65,
   "metadata": {},
   "outputs": [
    {
     "name": "stdout",
     "output_type": "stream",
     "text": [
      "    *\r\n",
      "   ***\r\n",
      "  *****\r\n",
      " *******\r\n",
      "*********\r\n",
      " *******\r\n",
      "  *****\r\n",
      "   ***\r\n",
      "    *\r\n"
     ]
    }
   ],
   "source": [
    "n = 0\n",
    "for i in range(1,6): \n",
    "    for j in range (1,(5 - i)+ 1): \n",
    "        print(end = \" \") \n",
    "          \n",
    "    while n != (2 * i - 1): \n",
    "        print(\"*\", end = \"\") \n",
    "        n = n + 1\n",
    "    n = 0\n",
    "    print(\"\\r\")  \n",
    "k = 1\n",
    "n = 1\n",
    "for i in range(1, 5): \n",
    "    for j in range (1, k + 1): \n",
    "        print(end = \" \") \n",
    "    k = k + 1 \n",
    "    while n <= (2 * (5 - i) - 1): \n",
    "        print(\"*\", end = \"\") \n",
    "        n = n + 1\n",
    "    n = 1\n",
    "    print(\"\\r\")"
   ]
  },
  {
   "cell_type": "code",
   "execution_count": 66,
   "metadata": {},
   "outputs": [
    {
     "name": "stdout",
     "output_type": "stream",
     "text": [
      "  *  \n",
      " * * \n",
      "*   *\n",
      " * * \n",
      "  *  \n"
     ]
    }
   ],
   "source": [
    "for i in range(0,5):\n",
    "    for j in range(0,5):\n",
    "        if (i+j)==2 or ( j-i) ==2 or (i-j)==2 or (i+j)== 6:\n",
    "            print(\"*\",end=\"\")\n",
    "        else:\n",
    "            print(end=\" \")\n",
    "    print()"
   ]
  },
  {
   "cell_type": "code",
   "execution_count": 3,
   "metadata": {},
   "outputs": [
    {
     "name": "stdout",
     "output_type": "stream",
     "text": [
      "*****\n",
      "******\n",
      "*******\n",
      "********\n",
      "*********\n"
     ]
    }
   ],
   "source": [
    "space=4\n",
    "p=1\n",
    "for i in range(0,5):\n",
    "    for j in range(0,space):\n",
    "        print(\"*\",end=\"\")\n",
    "    for k in range(0,i+1):\n",
    "        print(\"*\",end=\"\")\n",
    "    sapce=space-1\n",
    "    print()\n"
   ]
  },
  {
   "cell_type": "code",
   "execution_count": 14,
   "metadata": {},
   "outputs": [
    {
     "name": "stdout",
     "output_type": "stream",
     "text": [
      "  1 \n",
      " 2 3 4 \n",
      "5 6 7 8 9 \n",
      " 101112\n",
      "  13\n"
     ]
    }
   ],
   "source": [
    "n=0\n",
    "p=1\n",
    "for i in range(1, 3 + 1): \n",
    "        for j in range (1, (3 - i) + 1): \n",
    "            print(end = \" \") \n",
    "        while n != (2 * i - 1): \n",
    "            print(p, end = \" \") \n",
    "            n = n + 1\n",
    "            p=p+1\n",
    "        n = 0\n",
    "        print()  \n",
    "k = 1\n",
    "n = 1\n",
    "for i in range(1, 3): \n",
    "    for j in range (1, k + 1): \n",
    "        print(end = \" \") \n",
    "    k = k + 1\n",
    "    while (n <= (2 * (3 - i) - 1)): \n",
    "        print(p, end = \"\") \n",
    "        p=p+1\n",
    "        n = n + 1\n",
    "    n = 1\n",
    "    print() "
   ]
  },
  {
   "cell_type": "code",
   "execution_count": null,
   "metadata": {},
   "outputs": [],
   "source": []
  },
  {
   "cell_type": "code",
   "execution_count": null,
   "metadata": {},
   "outputs": [],
   "source": []
  },
  {
   "cell_type": "code",
   "execution_count": null,
   "metadata": {},
   "outputs": [],
   "source": []
  }
 ],
 "metadata": {
  "kernelspec": {
   "display_name": "Python 3",
   "language": "python",
   "name": "python3"
  },
  "language_info": {
   "codemirror_mode": {
    "name": "ipython",
    "version": 3
   },
   "file_extension": ".py",
   "mimetype": "text/x-python",
   "name": "python",
   "nbconvert_exporter": "python",
   "pygments_lexer": "ipython3",
   "version": "3.7.4"
  }
 },
 "nbformat": 4,
 "nbformat_minor": 2
}
